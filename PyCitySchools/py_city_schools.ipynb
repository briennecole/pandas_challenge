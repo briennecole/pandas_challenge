{
 "cells": [
  {
   "cell_type": "code",
   "execution_count": 15,
   "metadata": {},
   "outputs": [
    {
     "data": {
      "text/html": [
       "<div>\n",
       "<style scoped>\n",
       "    .dataframe tbody tr th:only-of-type {\n",
       "        vertical-align: middle;\n",
       "    }\n",
       "\n",
       "    .dataframe tbody tr th {\n",
       "        vertical-align: top;\n",
       "    }\n",
       "\n",
       "    .dataframe thead th {\n",
       "        text-align: right;\n",
       "    }\n",
       "</style>\n",
       "<table border=\"1\" class=\"dataframe\">\n",
       "  <thead>\n",
       "    <tr style=\"text-align: right;\">\n",
       "      <th></th>\n",
       "      <th>Student ID</th>\n",
       "      <th>student_name</th>\n",
       "      <th>gender</th>\n",
       "      <th>grade</th>\n",
       "      <th>school_name</th>\n",
       "      <th>reading_score</th>\n",
       "      <th>math_score</th>\n",
       "      <th>School ID</th>\n",
       "      <th>type</th>\n",
       "      <th>size</th>\n",
       "      <th>budget</th>\n",
       "    </tr>\n",
       "  </thead>\n",
       "  <tbody>\n",
       "    <tr>\n",
       "      <th>0</th>\n",
       "      <td>0</td>\n",
       "      <td>Paul Bradley</td>\n",
       "      <td>M</td>\n",
       "      <td>9th</td>\n",
       "      <td>Huang High School</td>\n",
       "      <td>66</td>\n",
       "      <td>79</td>\n",
       "      <td>0</td>\n",
       "      <td>District</td>\n",
       "      <td>2917</td>\n",
       "      <td>1910635</td>\n",
       "    </tr>\n",
       "    <tr>\n",
       "      <th>1</th>\n",
       "      <td>1</td>\n",
       "      <td>Victor Smith</td>\n",
       "      <td>M</td>\n",
       "      <td>12th</td>\n",
       "      <td>Huang High School</td>\n",
       "      <td>94</td>\n",
       "      <td>61</td>\n",
       "      <td>0</td>\n",
       "      <td>District</td>\n",
       "      <td>2917</td>\n",
       "      <td>1910635</td>\n",
       "    </tr>\n",
       "    <tr>\n",
       "      <th>2</th>\n",
       "      <td>2</td>\n",
       "      <td>Kevin Rodriguez</td>\n",
       "      <td>M</td>\n",
       "      <td>12th</td>\n",
       "      <td>Huang High School</td>\n",
       "      <td>90</td>\n",
       "      <td>60</td>\n",
       "      <td>0</td>\n",
       "      <td>District</td>\n",
       "      <td>2917</td>\n",
       "      <td>1910635</td>\n",
       "    </tr>\n",
       "    <tr>\n",
       "      <th>3</th>\n",
       "      <td>3</td>\n",
       "      <td>Dr. Richard Scott</td>\n",
       "      <td>M</td>\n",
       "      <td>12th</td>\n",
       "      <td>Huang High School</td>\n",
       "      <td>67</td>\n",
       "      <td>58</td>\n",
       "      <td>0</td>\n",
       "      <td>District</td>\n",
       "      <td>2917</td>\n",
       "      <td>1910635</td>\n",
       "    </tr>\n",
       "    <tr>\n",
       "      <th>4</th>\n",
       "      <td>4</td>\n",
       "      <td>Bonnie Ray</td>\n",
       "      <td>F</td>\n",
       "      <td>9th</td>\n",
       "      <td>Huang High School</td>\n",
       "      <td>97</td>\n",
       "      <td>84</td>\n",
       "      <td>0</td>\n",
       "      <td>District</td>\n",
       "      <td>2917</td>\n",
       "      <td>1910635</td>\n",
       "    </tr>\n",
       "  </tbody>\n",
       "</table>\n",
       "</div>"
      ],
      "text/plain": [
       "   Student ID       student_name gender grade        school_name  \\\n",
       "0           0       Paul Bradley      M   9th  Huang High School   \n",
       "1           1       Victor Smith      M  12th  Huang High School   \n",
       "2           2    Kevin Rodriguez      M  12th  Huang High School   \n",
       "3           3  Dr. Richard Scott      M  12th  Huang High School   \n",
       "4           4         Bonnie Ray      F   9th  Huang High School   \n",
       "\n",
       "   reading_score  math_score  School ID      type  size   budget  \n",
       "0             66          79          0  District  2917  1910635  \n",
       "1             94          61          0  District  2917  1910635  \n",
       "2             90          60          0  District  2917  1910635  \n",
       "3             67          58          0  District  2917  1910635  \n",
       "4             97          84          0  District  2917  1910635  "
      ]
     },
     "execution_count": 15,
     "metadata": {},
     "output_type": "execute_result"
    }
   ],
   "source": [
    "# Import Dependencies\n",
    "import pandas as pd\n",
    "\n",
    "# Load Files\n",
    "school_data_csv = \"Resources/schools_complete.csv\"\n",
    "student_data_csv = \"Resources/students_complete.csv\"\n",
    "\n",
    "# Read School and Student Data File and store into Pandas DataFrames\n",
    "school_data_df = pd.read_csv(school_data_csv)\n",
    "student_data_df = pd.read_csv(student_data_csv)\n",
    "\n",
    "# Combine the data into a single dataset.  \n",
    "combined_data_df = pd.merge(student_data_df, school_data_df, how=\"left\", on=[\"school_name\", \"school_name\"])\n",
    "combined_data_df.head()"
   ]
  },
  {
   "cell_type": "code",
   "execution_count": 16,
   "metadata": {},
   "outputs": [
    {
     "data": {
      "text/html": [
       "<style  type=\"text/css\" >\n",
       "</style><table id=\"T_145f0f90_5aaf_11eb_979c_38f9d364a31d\" ><thead>    <tr>        <th class=\"blank level0\" ></th>        <th class=\"col_heading level0 col0\" >Total Schools</th>        <th class=\"col_heading level0 col1\" >Total Students</th>        <th class=\"col_heading level0 col2\" >Total Budget</th>        <th class=\"col_heading level0 col3\" >Average Math Score</th>        <th class=\"col_heading level0 col4\" >Average Reading Score</th>        <th class=\"col_heading level0 col5\" >% Passing Math</th>        <th class=\"col_heading level0 col6\" >% Passing Reading</th>        <th class=\"col_heading level0 col7\" >% Overall Passing</th>    </tr></thead><tbody>\n",
       "                <tr>\n",
       "                        <th id=\"T_145f0f90_5aaf_11eb_979c_38f9d364a31dlevel0_row0\" class=\"row_heading level0 row0\" >0</th>\n",
       "                        <td id=\"T_145f0f90_5aaf_11eb_979c_38f9d364a31drow0_col0\" class=\"data row0 col0\" >15</td>\n",
       "                        <td id=\"T_145f0f90_5aaf_11eb_979c_38f9d364a31drow0_col1\" class=\"data row0 col1\" >39,170</td>\n",
       "                        <td id=\"T_145f0f90_5aaf_11eb_979c_38f9d364a31drow0_col2\" class=\"data row0 col2\" >$24,649,428.00</td>\n",
       "                        <td id=\"T_145f0f90_5aaf_11eb_979c_38f9d364a31drow0_col3\" class=\"data row0 col3\" >78.99%</td>\n",
       "                        <td id=\"T_145f0f90_5aaf_11eb_979c_38f9d364a31drow0_col4\" class=\"data row0 col4\" >81.88%</td>\n",
       "                        <td id=\"T_145f0f90_5aaf_11eb_979c_38f9d364a31drow0_col5\" class=\"data row0 col5\" >74.98%</td>\n",
       "                        <td id=\"T_145f0f90_5aaf_11eb_979c_38f9d364a31drow0_col6\" class=\"data row0 col6\" >85.81%</td>\n",
       "                        <td id=\"T_145f0f90_5aaf_11eb_979c_38f9d364a31drow0_col7\" class=\"data row0 col7\" >65.17%</td>\n",
       "            </tr>\n",
       "    </tbody></table>"
      ],
      "text/plain": [
       "<pandas.io.formats.style.Styler at 0x7fa18e3a3668>"
      ]
     },
     "execution_count": 16,
     "metadata": {},
     "output_type": "execute_result"
    }
   ],
   "source": [
    "# District Summary\n",
    "# Calculate the total number of schools\n",
    "school_count = len(combined_data_df[\"school_name\"].unique())\n",
    "\n",
    "# Calculate the total number of students\n",
    "student_count = combined_data_df[\"Student ID\"].count()\n",
    "#student_count\n",
    "\n",
    "# Calculate the total budget\n",
    "# grouped_school_data = combined_data_df.groupby(['school_name'])\n",
    "# grouped_school_data.head()\n",
    "# df = pd.DataFrame.drop_duplicates(combined_data_df.)\n",
    "# school_budget = combined_data_df[\"school_name\"].unique()and combined_data)df[\"budget\"]\n",
    "district_budget = school_data_df[\"budget\"].sum() \n",
    "district_budget\n",
    "\n",
    "#Calculate the average math score\n",
    "avg_math_score = combined_data_df[\"math_score\"].mean()/100\n",
    "#avg_math_score\n",
    "\n",
    "# Calculate the average reading score\n",
    "avg_reading_score = combined_data_df[\"reading_score\"].mean()/100\n",
    "# avg_reading_score\n",
    "\n",
    "# Calculate the percentage of students with a passing math score (70 or greater)\n",
    "passing_math_list = combined_data_df.loc[combined_data_df[\"math_score\"]>=70, :]\n",
    "passing_math = (passing_math_list[\"Student ID\"].count()) / (combined_data_df[\"Student ID\"].count())\n",
    "#passing_math\n",
    "\n",
    "# Calculate the percentage of students with a passing reading score (70 or greater)\n",
    "passing_reading_list = combined_data_df.loc[combined_data_df[\"reading_score\"]>=70, :]\n",
    "passing_reading = (passing_reading_list[\"Student ID\"].count()) / (combined_data_df[\"Student ID\"].count())\n",
    "#passing_reading\n",
    "\n",
    "# Calculate the percentage of students who passed math and reading (% Overall Passing)\n",
    "passing_both_list = combined_data_df.loc[(combined_data_df[\"math_score\"]>=70) & (combined_data_df[\"reading_score\"]>=70)]\n",
    "passing_both = (passing_both_list[\"Student ID\"].count()) / (combined_data_df[\"Student ID\"].count())\n",
    "#passing_both\n",
    "\n",
    "# Create a Summary DataFrame\n",
    "district_summary_df = pd.DataFrame({\"Total Schools\": [school_count],\n",
    "                                   \"Total Students\": [student_count],\n",
    "                                   \"Total Budget\": [district_budget],\n",
    "                                   \"Average Math Score\": [avg_math_score],\n",
    "                                   \"Average Reading Score\": [avg_reading_score],\n",
    "                                   \"% Passing Math\": [passing_math],\n",
    "                                   \"% Passing Reading\": [passing_reading],\n",
    "                                   \"% Overall Passing\": [passing_both]})\n",
    "district_summary_df.head()\n",
    "\n",
    "\n",
    "# Optional: give the displayed data cleaner formatting\n",
    "format_dict = {'Total Students':'{:,}', 'Total Budget':'${:,.2f}', 'Average Math Score':'{:.2%}','Average Reading Score':'{:.2%}','% Passing Math':'{:.2%}','% Passing Reading':'{:.2%}','% Overall Passing':'{:.2%}'}\n",
    "district_summary_df.style.format(format_dict)\n"
   ]
  },
  {
   "cell_type": "code",
   "execution_count": 101,
   "metadata": {},
   "outputs": [
    {
     "name": "stdout",
     "output_type": "stream",
     "text": [
      "<pandas.core.groupby.generic.DataFrameGroupBy object at 0x7fa18cdd5278>\n"
     ]
    }
   ],
   "source": [
    "# School Summary\n",
    "    # Reference activity 2-6 \"GroupBy\"\n",
    "# Create an overview table that summarizes the items below:                  \n",
    "# Use groupby to change index and create new df\n",
    "school_summary = combined_data_df.groupby(['school_name'])\n",
    "print(school_summary)\n",
    "\n",
    "# School Name\n",
    "# School Type\n",
    "school_type_df = school_data_df\n",
    "school_type = school_type_df.set_index('school_name')[\"type\"]\n",
    "\n",
    "# Total Students\n",
    "total_students = school_summary[\"size\"].count()\n",
    "\n",
    "# Total School Budget\n",
    "school_budget = school_type_df.set_index('school_name')[\"budget\"]\n",
    "\n",
    "# Per Student Budget\n",
    "stu_budget = school_budget / total_students\n",
    "\n",
    "# Average Math Score\n",
    "math_score = school_summary[\"math_score\"].mean()\n",
    "\n",
    "# Average Reading Score\n",
    "reading_score = school_summary[\"reading_score\"].mean()\n",
    "\n",
    "# % Passing Math\n",
    "per_passing_math_df = student_data_df\n",
    "per_passing_math_list = per_passing_math_df.set_index('school_name')\n",
    "stu_passing_math = per_passing_math_list.loc[per_passing_math_list[\"math_score\"]>=70, :]\n",
    "per_passing_math = stu_passing_math[\"Student ID\"].count() \n",
    "#per_passing_math = stu_passing_math[\"Student ID\"].count() / per_passing_math_list[\"Student ID\"].count()\n",
    "\n",
    "\n",
    "# % Passing Reading\n",
    "\n",
    "# % Overall Passing (The percentage of students that passed math and reading.)\n",
    "\n",
    "# Create a dataframe to hold the above results\n",
    "    # Use groupby to create new dataframe and add columns from School Summary table 1.5\n",
    "school_summary_df = pd.DataFrame({\"School Type\": school_type,\n",
    "                                   \"Total Students\": total_students,\n",
    "                                   \"Total School Budget\": school_budget,\n",
    "                                   \"Average Math Score\": math_score,\n",
    "                                   \"Average Reading Score\": reading_score})\n",
    "#                                    \"% Passing Math\": [per_passing_math],\n",
    "#                                    \"% Passing Reading\": [per_passing_reading],\n",
    "#                                    \"% Overall Passing\": [per_passing_both]})\n",
    "#school_summary_df.head(15)\n",
    "\n",
    "# school_summary = school_summary.rename(columns={\"reading_score\":\"Average Reading Score\", \"math_score\":\"Average Math Score\", \"size\":\"Total Students\", \"budget\":\"Total School Budget\"})\n",
    "# school_summary.head()\n",
    "\n",
    "    # Format headings using .rename function - 1.7"
   ]
  },
  {
   "cell_type": "code",
   "execution_count": 102,
   "metadata": {},
   "outputs": [
    {
     "data": {
      "text/plain": [
       "29370"
      ]
     },
     "execution_count": 102,
     "metadata": {},
     "output_type": "execute_result"
    }
   ],
   "source": [
    "per_passing_math"
   ]
  },
  {
   "cell_type": "code",
   "execution_count": 65,
   "metadata": {},
   "outputs": [],
   "source": [
    "# Top Performing Schools\n",
    "    #Reference activity 2-9 \"Search for the Worst\""
   ]
  },
  {
   "cell_type": "code",
   "execution_count": 51,
   "metadata": {},
   "outputs": [],
   "source": [
    "# Bottom Performing Schools\n",
    "    #Reference activity 2-9 \"Search for the Worst\""
   ]
  },
  {
   "cell_type": "code",
   "execution_count": null,
   "metadata": {},
   "outputs": [],
   "source": [
    "# Math Scores by Grade"
   ]
  },
  {
   "cell_type": "code",
   "execution_count": null,
   "metadata": {},
   "outputs": [],
   "source": [
    "# Reading Scores by Grade"
   ]
  },
  {
   "cell_type": "code",
   "execution_count": null,
   "metadata": {},
   "outputs": [],
   "source": [
    "# Scores by School Spending"
   ]
  },
  {
   "cell_type": "code",
   "execution_count": null,
   "metadata": {},
   "outputs": [],
   "source": [
    "# Scores by School Size"
   ]
  },
  {
   "cell_type": "code",
   "execution_count": null,
   "metadata": {},
   "outputs": [],
   "source": [
    "# Scores by School Type"
   ]
  }
 ],
 "metadata": {
  "kernelspec": {
   "display_name": "Python 3",
   "language": "python",
   "name": "python3"
  },
  "language_info": {
   "codemirror_mode": {
    "name": "ipython",
    "version": 3
   },
   "file_extension": ".py",
   "mimetype": "text/x-python",
   "name": "python",
   "nbconvert_exporter": "python",
   "pygments_lexer": "ipython3",
   "version": "3.6.10"
  }
 },
 "nbformat": 4,
 "nbformat_minor": 4
}
